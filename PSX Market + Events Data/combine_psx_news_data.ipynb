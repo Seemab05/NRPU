{
  "nbformat": 4,
  "nbformat_minor": 0,
  "metadata": {
    "colab": {
      "provenance": []
    },
    "kernelspec": {
      "name": "python3",
      "display_name": "Python 3"
    },
    "language_info": {
      "name": "python"
    }
  },
  "cells": [
    {
      "cell_type": "code",
      "execution_count": 6,
      "metadata": {
        "id": "CC2UG4IU5vI0",
        "colab": {
          "base_uri": "https://localhost:8080/"
        },
        "outputId": "f0ef7288-115b-456b-f99c-507a565c0db0"
      },
      "outputs": [
        {
          "output_type": "stream",
          "name": "stdout",
          "text": [
            "Combined data saved to combined_data.csv\n"
          ]
        }
      ],
      "source": [
        "import pandas as pd\n",
        "import csv\n",
        "\n",
        "# Function to read CSV with error handling\n",
        "def read_csv(file_path):\n",
        "    data = []\n",
        "    with open(file_path, 'r', encoding='utf-8') as file:\n",
        "        reader = csv.reader(file)\n",
        "        for line in reader:\n",
        "            if len(line) > 0:\n",
        "                data.append(line)\n",
        "    return data\n",
        "\n",
        "# Load the data from the three files, handling potential issues with quotation marks\n",
        "merged_data = pd.DataFrame(read_csv('merged_data.csv')[1:], columns=read_csv('merged_data.csv')[0])\n",
        "english_events = pd.DataFrame(read_csv('english_events.csv')[1:], columns=read_csv('english_events.csv')[0])\n",
        "urdu_events = pd.DataFrame(read_csv('urdu_events.csv')[1:], columns=read_csv('urdu_events.csv')[0])\n",
        "output_file = 'combined_data.csv'\n",
        "\n",
        "# Remove 'End Date' column and rename 'Start Date' to 'Date' in english_events\n",
        "english_events.drop('End Date', axis=1, inplace=True)\n",
        "english_events.rename(columns={'Start Date': 'Date'}, inplace=True)\n",
        "\n",
        "urdu_events.drop('End Date', axis=1, inplace=True)\n",
        "urdu_events.rename(columns={'Start Date': 'Date'}, inplace=True)\n",
        "\n",
        "# Rename columns of english_events and urdu_events\n",
        "english_events.columns = ['eng-' + col if col != 'Date' else col for col in english_events.columns]\n",
        "urdu_events.columns = ['urdu-' + col if col != 'Date' else col for col in urdu_events.columns]\n",
        "\n",
        "\n",
        "# Merge the three dataframes based on the 'Date' column\n",
        "combined_data = pd.merge(merged_data, english_events, on='Date', how='inner')\n",
        "combined_data = pd.merge(combined_data, urdu_events, on='Date', how='inner')\n",
        "\n",
        "\n",
        "# Fill NaN values with interpolation\n",
        "combined_data = combined_data.ffill().bfill()\n",
        "\n",
        "# Save the combined data to a new CSV file\n",
        "combined_data.to_csv(output_file, index=False)\n",
        "\n",
        "print(f'Combined data saved to {output_file}')\n"
      ]
    }
  ]
}