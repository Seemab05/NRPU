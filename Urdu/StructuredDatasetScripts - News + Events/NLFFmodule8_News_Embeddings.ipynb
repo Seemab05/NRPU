{
  "cells": [
    {
      "cell_type": "code",
      "execution_count": null,
      "metadata": {
        "colab": {
          "base_uri": "https://localhost:8080/"
        },
        "id": "nO3W1BHLKBD6",
        "outputId": "839f490c-96b4-4b6b-acc3-f10991f149ca"
      },
      "outputs": [
        {
          "name": "stdout",
          "output_type": "stream",
          "text": [
            "Mounted at /content/drive\n"
          ]
        }
      ],
      "source": [
        "from google.colab import drive\n",
        "drive.mount('/content/drive')"
      ]
    },
    {
      "cell_type": "markdown",
      "metadata": {
        "id": "gG39OWyFLiMf"
      },
      "source": [
        "# Load Dataset"
      ]
    },
    {
      "cell_type": "code",
      "execution_count": null,
      "metadata": {
        "colab": {
          "base_uri": "https://localhost:8080/",
          "height": 571
        },
        "id": "yD3usQqFKSCR",
        "outputId": "968eb38b-a6c6-4556-fd5c-7a61da89c52a"
      },
      "outputs": [
        {
          "name": "stdout",
          "output_type": "stream",
          "text": [
            "Index(['Headline', 'DateTime', 'Url', 'News', 'Source', 'Category', 'Combined',\n",
            "       'Combined_Cleaned', 'CC_wo_Stopwords', 'Combined_wo_Stopwords',\n",
            "       'CC_wo_Stopwords_punc', 'main_cat', 'Sub_Category', 'Keywords_CC', 'id',\n",
            "       'sentiment', 'CC_tokenized', 'NER_Persons', 'NER_Orgs', 'NER_Loc'],\n",
            "      dtype='object')\n",
            "(103169, 20)\n"
          ]
        },
        {
          "data": {
            "text/html": [
              "\n",
              "  <div id=\"df-6c5f3e46-9d7a-4083-8a6e-008c31750995\" class=\"colab-df-container\">\n",
              "    <div>\n",
              "<style scoped>\n",
              "    .dataframe tbody tr th:only-of-type {\n",
              "        vertical-align: middle;\n",
              "    }\n",
              "\n",
              "    .dataframe tbody tr th {\n",
              "        vertical-align: top;\n",
              "    }\n",
              "\n",
              "    .dataframe thead th {\n",
              "        text-align: right;\n",
              "    }\n",
              "</style>\n",
              "<table border=\"1\" class=\"dataframe\">\n",
              "  <thead>\n",
              "    <tr style=\"text-align: right;\">\n",
              "      <th></th>\n",
              "      <th>Headline</th>\n",
              "      <th>DateTime</th>\n",
              "      <th>Url</th>\n",
              "      <th>News</th>\n",
              "      <th>Source</th>\n",
              "      <th>Category</th>\n",
              "      <th>Combined</th>\n",
              "      <th>Combined_Cleaned</th>\n",
              "      <th>CC_wo_Stopwords</th>\n",
              "      <th>Combined_wo_Stopwords</th>\n",
              "      <th>CC_wo_Stopwords_punc</th>\n",
              "      <th>main_cat</th>\n",
              "      <th>Sub_Category</th>\n",
              "      <th>Keywords_CC</th>\n",
              "      <th>id</th>\n",
              "      <th>sentiment</th>\n",
              "      <th>CC_tokenized</th>\n",
              "      <th>NER_Persons</th>\n",
              "      <th>NER_Orgs</th>\n",
              "      <th>NER_Loc</th>\n",
              "    </tr>\n",
              "  </thead>\n",
              "  <tbody>\n",
              "    <tr>\n",
              "      <th>0</th>\n",
              "      <td>مہندرا اینڈ محمد کو تقسیم نے کیسے الگ کیا؟</td>\n",
              "      <td>2017-08-05</td>\n",
              "      <td>https://www.bbc.com/urdu/regional-40825452</td>\n",
              "      <td>یہ تحریر پہلی مرتبہ بی بی سی اردو کی ویب سائٹ ...</td>\n",
              "      <td>BBC</td>\n",
              "      <td>پاکستان</td>\n",
              "      <td>مہندرا اینڈ محمد کو تقسیم نے کیسے الگ کیا؟ یہ ...</td>\n",
              "      <td>مہندرا اینڈ محمد کو تقسیم نے کیسے الگ کیا یہ ت...</td>\n",
              "      <td>مہندرا اینڈ محمد تقسیم الگ تحریر مرتبہ بی بی ا...</td>\n",
              "      <td>مہندرا اینڈ محمد تقسیم الگ کیا؟ تحریر مرتبہ بی...</td>\n",
              "      <td>مہندرا اینڈ محمد تقسیم الگ تحریر مرتبہ بی بی ا...</td>\n",
              "      <td>pakistan</td>\n",
              "      <td>NotAssigned</td>\n",
              "      <td>['مہندرا', 'کیشو', 'غلام', 'محمد', 'اینڈ', 'ان...</td>\n",
              "      <td>2345</td>\n",
              "      <td>1.0</td>\n",
              "      <td>['مہندرا', 'اینڈ', 'محمد', 'کو', 'تقسیم', 'نے'...</td>\n",
              "      <td>['مہندرا', 'قارئین', 'بیٹن', 'چبھن', 'محمد', '...</td>\n",
              "      <td>['مسلم']</td>\n",
              "      <td>['پاکستان', 'والا']</td>\n",
              "    </tr>\n",
              "    <tr>\n",
              "      <th>1</th>\n",
              "      <td>تقسیم کی ایک نامکمل محبت کی کہانی</td>\n",
              "      <td>2017-08-15</td>\n",
              "      <td>https://www.bbc.com/urdu/regional-40912412</td>\n",
              "      <td>یہ تحریر پہلی مرتبہ 15 اگست سنہ 2017 کو بی بی ...</td>\n",
              "      <td>BBC</td>\n",
              "      <td>پاکستان</td>\n",
              "      <td>تقسیم کی ایک نامکمل محبت کی کہانی یہ تحریر پہل...</td>\n",
              "      <td>تقسیم کی ایک نامکمل محبت کی کہانی یہ تحریر پہل...</td>\n",
              "      <td>تقسیم نامکمل محبت کہانی تحریر مرتبہ 15 اگست سن...</td>\n",
              "      <td>تقسیم نامکمل محبت کہانی تحریر مرتبہ 15 اگست سن...</td>\n",
              "      <td>تقسیم نامکمل محبت کہانی تحریر مرتبہ 15 اگست سن...</td>\n",
              "      <td>pakistan</td>\n",
              "      <td>NotAssigned</td>\n",
              "      <td>['عصمت', 'جیتو', 'کملا', 'پٹیل', 'عورتوں', 'ام...</td>\n",
              "      <td>2372</td>\n",
              "      <td>1.0</td>\n",
              "      <td>['تقسیم', 'کی', 'ایک', 'نامکمل', 'محبت', 'کی',...</td>\n",
              "      <td>['میموائر', 'برباد', 'عصمت انھی', 'انھی', 'مین...</td>\n",
              "      <td>[]</td>\n",
              "      <td>['پاکستان', 'لاہور', 'ہندوستان', 'راولپنڈی', '...</td>\n",
              "    </tr>\n",
              "  </tbody>\n",
              "</table>\n",
              "</div>\n",
              "    <div class=\"colab-df-buttons\">\n",
              "\n",
              "  <div class=\"colab-df-container\">\n",
              "    <button class=\"colab-df-convert\" onclick=\"convertToInteractive('df-6c5f3e46-9d7a-4083-8a6e-008c31750995')\"\n",
              "            title=\"Convert this dataframe to an interactive table.\"\n",
              "            style=\"display:none;\">\n",
              "\n",
              "  <svg xmlns=\"http://www.w3.org/2000/svg\" height=\"24px\" viewBox=\"0 -960 960 960\">\n",
              "    <path d=\"M120-120v-720h720v720H120Zm60-500h600v-160H180v160Zm220 220h160v-160H400v160Zm0 220h160v-160H400v160ZM180-400h160v-160H180v160Zm440 0h160v-160H620v160ZM180-180h160v-160H180v160Zm440 0h160v-160H620v160Z\"/>\n",
              "  </svg>\n",
              "    </button>\n",
              "\n",
              "  <style>\n",
              "    .colab-df-container {\n",
              "      display:flex;\n",
              "      gap: 12px;\n",
              "    }\n",
              "\n",
              "    .colab-df-convert {\n",
              "      background-color: #E8F0FE;\n",
              "      border: none;\n",
              "      border-radius: 50%;\n",
              "      cursor: pointer;\n",
              "      display: none;\n",
              "      fill: #1967D2;\n",
              "      height: 32px;\n",
              "      padding: 0 0 0 0;\n",
              "      width: 32px;\n",
              "    }\n",
              "\n",
              "    .colab-df-convert:hover {\n",
              "      background-color: #E2EBFA;\n",
              "      box-shadow: 0px 1px 2px rgba(60, 64, 67, 0.3), 0px 1px 3px 1px rgba(60, 64, 67, 0.15);\n",
              "      fill: #174EA6;\n",
              "    }\n",
              "\n",
              "    .colab-df-buttons div {\n",
              "      margin-bottom: 4px;\n",
              "    }\n",
              "\n",
              "    [theme=dark] .colab-df-convert {\n",
              "      background-color: #3B4455;\n",
              "      fill: #D2E3FC;\n",
              "    }\n",
              "\n",
              "    [theme=dark] .colab-df-convert:hover {\n",
              "      background-color: #434B5C;\n",
              "      box-shadow: 0px 1px 3px 1px rgba(0, 0, 0, 0.15);\n",
              "      filter: drop-shadow(0px 1px 2px rgba(0, 0, 0, 0.3));\n",
              "      fill: #FFFFFF;\n",
              "    }\n",
              "  </style>\n",
              "\n",
              "    <script>\n",
              "      const buttonEl =\n",
              "        document.querySelector('#df-6c5f3e46-9d7a-4083-8a6e-008c31750995 button.colab-df-convert');\n",
              "      buttonEl.style.display =\n",
              "        google.colab.kernel.accessAllowed ? 'block' : 'none';\n",
              "\n",
              "      async function convertToInteractive(key) {\n",
              "        const element = document.querySelector('#df-6c5f3e46-9d7a-4083-8a6e-008c31750995');\n",
              "        const dataTable =\n",
              "          await google.colab.kernel.invokeFunction('convertToInteractive',\n",
              "                                                    [key], {});\n",
              "        if (!dataTable) return;\n",
              "\n",
              "        const docLinkHtml = 'Like what you see? Visit the ' +\n",
              "          '<a target=\"_blank\" href=https://colab.research.google.com/notebooks/data_table.ipynb>data table notebook</a>'\n",
              "          + ' to learn more about interactive tables.';\n",
              "        element.innerHTML = '';\n",
              "        dataTable['output_type'] = 'display_data';\n",
              "        await google.colab.output.renderOutput(dataTable, element);\n",
              "        const docLink = document.createElement('div');\n",
              "        docLink.innerHTML = docLinkHtml;\n",
              "        element.appendChild(docLink);\n",
              "      }\n",
              "    </script>\n",
              "  </div>\n",
              "\n",
              "\n",
              "<div id=\"df-4edb535b-c63e-4268-9511-02a076a4894f\">\n",
              "  <button class=\"colab-df-quickchart\" onclick=\"quickchart('df-4edb535b-c63e-4268-9511-02a076a4894f')\"\n",
              "            title=\"Suggest charts.\"\n",
              "            style=\"display:none;\">\n",
              "\n",
              "<svg xmlns=\"http://www.w3.org/2000/svg\" height=\"24px\"viewBox=\"0 0 24 24\"\n",
              "     width=\"24px\">\n",
              "    <g>\n",
              "        <path d=\"M19 3H5c-1.1 0-2 .9-2 2v14c0 1.1.9 2 2 2h14c1.1 0 2-.9 2-2V5c0-1.1-.9-2-2-2zM9 17H7v-7h2v7zm4 0h-2V7h2v10zm4 0h-2v-4h2v4z\"/>\n",
              "    </g>\n",
              "</svg>\n",
              "  </button>\n",
              "\n",
              "<style>\n",
              "  .colab-df-quickchart {\n",
              "      --bg-color: #E8F0FE;\n",
              "      --fill-color: #1967D2;\n",
              "      --hover-bg-color: #E2EBFA;\n",
              "      --hover-fill-color: #174EA6;\n",
              "      --disabled-fill-color: #AAA;\n",
              "      --disabled-bg-color: #DDD;\n",
              "  }\n",
              "\n",
              "  [theme=dark] .colab-df-quickchart {\n",
              "      --bg-color: #3B4455;\n",
              "      --fill-color: #D2E3FC;\n",
              "      --hover-bg-color: #434B5C;\n",
              "      --hover-fill-color: #FFFFFF;\n",
              "      --disabled-bg-color: #3B4455;\n",
              "      --disabled-fill-color: #666;\n",
              "  }\n",
              "\n",
              "  .colab-df-quickchart {\n",
              "    background-color: var(--bg-color);\n",
              "    border: none;\n",
              "    border-radius: 50%;\n",
              "    cursor: pointer;\n",
              "    display: none;\n",
              "    fill: var(--fill-color);\n",
              "    height: 32px;\n",
              "    padding: 0;\n",
              "    width: 32px;\n",
              "  }\n",
              "\n",
              "  .colab-df-quickchart:hover {\n",
              "    background-color: var(--hover-bg-color);\n",
              "    box-shadow: 0 1px 2px rgba(60, 64, 67, 0.3), 0 1px 3px 1px rgba(60, 64, 67, 0.15);\n",
              "    fill: var(--button-hover-fill-color);\n",
              "  }\n",
              "\n",
              "  .colab-df-quickchart-complete:disabled,\n",
              "  .colab-df-quickchart-complete:disabled:hover {\n",
              "    background-color: var(--disabled-bg-color);\n",
              "    fill: var(--disabled-fill-color);\n",
              "    box-shadow: none;\n",
              "  }\n",
              "\n",
              "  .colab-df-spinner {\n",
              "    border: 2px solid var(--fill-color);\n",
              "    border-color: transparent;\n",
              "    border-bottom-color: var(--fill-color);\n",
              "    animation:\n",
              "      spin 1s steps(1) infinite;\n",
              "  }\n",
              "\n",
              "  @keyframes spin {\n",
              "    0% {\n",
              "      border-color: transparent;\n",
              "      border-bottom-color: var(--fill-color);\n",
              "      border-left-color: var(--fill-color);\n",
              "    }\n",
              "    20% {\n",
              "      border-color: transparent;\n",
              "      border-left-color: var(--fill-color);\n",
              "      border-top-color: var(--fill-color);\n",
              "    }\n",
              "    30% {\n",
              "      border-color: transparent;\n",
              "      border-left-color: var(--fill-color);\n",
              "      border-top-color: var(--fill-color);\n",
              "      border-right-color: var(--fill-color);\n",
              "    }\n",
              "    40% {\n",
              "      border-color: transparent;\n",
              "      border-right-color: var(--fill-color);\n",
              "      border-top-color: var(--fill-color);\n",
              "    }\n",
              "    60% {\n",
              "      border-color: transparent;\n",
              "      border-right-color: var(--fill-color);\n",
              "    }\n",
              "    80% {\n",
              "      border-color: transparent;\n",
              "      border-right-color: var(--fill-color);\n",
              "      border-bottom-color: var(--fill-color);\n",
              "    }\n",
              "    90% {\n",
              "      border-color: transparent;\n",
              "      border-bottom-color: var(--fill-color);\n",
              "    }\n",
              "  }\n",
              "</style>\n",
              "\n",
              "  <script>\n",
              "    async function quickchart(key) {\n",
              "      const quickchartButtonEl =\n",
              "        document.querySelector('#' + key + ' button');\n",
              "      quickchartButtonEl.disabled = true;  // To prevent multiple clicks.\n",
              "      quickchartButtonEl.classList.add('colab-df-spinner');\n",
              "      try {\n",
              "        const charts = await google.colab.kernel.invokeFunction(\n",
              "            'suggestCharts', [key], {});\n",
              "      } catch (error) {\n",
              "        console.error('Error during call to suggestCharts:', error);\n",
              "      }\n",
              "      quickchartButtonEl.classList.remove('colab-df-spinner');\n",
              "      quickchartButtonEl.classList.add('colab-df-quickchart-complete');\n",
              "    }\n",
              "    (() => {\n",
              "      let quickchartButtonEl =\n",
              "        document.querySelector('#df-4edb535b-c63e-4268-9511-02a076a4894f button');\n",
              "      quickchartButtonEl.style.display =\n",
              "        google.colab.kernel.accessAllowed ? 'block' : 'none';\n",
              "    })();\n",
              "  </script>\n",
              "</div>\n",
              "    </div>\n",
              "  </div>\n"
            ],
            "text/plain": [
              "                                     Headline    DateTime  \\\n",
              "0  مہندرا اینڈ محمد کو تقسیم نے کیسے الگ کیا؟  2017-08-05   \n",
              "1           تقسیم کی ایک نامکمل محبت کی کہانی  2017-08-15   \n",
              "\n",
              "                                          Url  \\\n",
              "0  https://www.bbc.com/urdu/regional-40825452   \n",
              "1  https://www.bbc.com/urdu/regional-40912412   \n",
              "\n",
              "                                                News Source Category  \\\n",
              "0  یہ تحریر پہلی مرتبہ بی بی سی اردو کی ویب سائٹ ...    BBC  پاکستان   \n",
              "1  یہ تحریر پہلی مرتبہ 15 اگست سنہ 2017 کو بی بی ...    BBC  پاکستان   \n",
              "\n",
              "                                            Combined  \\\n",
              "0  مہندرا اینڈ محمد کو تقسیم نے کیسے الگ کیا؟ یہ ...   \n",
              "1  تقسیم کی ایک نامکمل محبت کی کہانی یہ تحریر پہل...   \n",
              "\n",
              "                                    Combined_Cleaned  \\\n",
              "0  مہندرا اینڈ محمد کو تقسیم نے کیسے الگ کیا یہ ت...   \n",
              "1  تقسیم کی ایک نامکمل محبت کی کہانی یہ تحریر پہل...   \n",
              "\n",
              "                                     CC_wo_Stopwords  \\\n",
              "0  مہندرا اینڈ محمد تقسیم الگ تحریر مرتبہ بی بی ا...   \n",
              "1  تقسیم نامکمل محبت کہانی تحریر مرتبہ 15 اگست سن...   \n",
              "\n",
              "                               Combined_wo_Stopwords  \\\n",
              "0  مہندرا اینڈ محمد تقسیم الگ کیا؟ تحریر مرتبہ بی...   \n",
              "1  تقسیم نامکمل محبت کہانی تحریر مرتبہ 15 اگست سن...   \n",
              "\n",
              "                                CC_wo_Stopwords_punc  main_cat Sub_Category  \\\n",
              "0  مہندرا اینڈ محمد تقسیم الگ تحریر مرتبہ بی بی ا...  pakistan  NotAssigned   \n",
              "1  تقسیم نامکمل محبت کہانی تحریر مرتبہ 15 اگست سن...  pakistan  NotAssigned   \n",
              "\n",
              "                                         Keywords_CC    id  sentiment  \\\n",
              "0  ['مہندرا', 'کیشو', 'غلام', 'محمد', 'اینڈ', 'ان...  2345        1.0   \n",
              "1  ['عصمت', 'جیتو', 'کملا', 'پٹیل', 'عورتوں', 'ام...  2372        1.0   \n",
              "\n",
              "                                        CC_tokenized  \\\n",
              "0  ['مہندرا', 'اینڈ', 'محمد', 'کو', 'تقسیم', 'نے'...   \n",
              "1  ['تقسیم', 'کی', 'ایک', 'نامکمل', 'محبت', 'کی',...   \n",
              "\n",
              "                                         NER_Persons  NER_Orgs  \\\n",
              "0  ['مہندرا', 'قارئین', 'بیٹن', 'چبھن', 'محمد', '...  ['مسلم']   \n",
              "1  ['میموائر', 'برباد', 'عصمت انھی', 'انھی', 'مین...        []   \n",
              "\n",
              "                                             NER_Loc  \n",
              "0                                ['پاکستان', 'والا']  \n",
              "1  ['پاکستان', 'لاہور', 'ہندوستان', 'راولپنڈی', '...  "
            ]
          },
          "execution_count": 2,
          "metadata": {},
          "output_type": "execute_result"
        }
      ],
      "source": [
        "import pandas as pd\n",
        "\n",
        "data_path = \"/content/drive/MyDrive/Datasets/Processed_NewsData/NewsData2022_2023-06-15.csv\"\n",
        "merged = pd.read_csv(data_path, encoding=\"utf-8\", lineterminator='\\n')\n",
        "# merged = pd.read_csv(\"/content/drive/MyDrive/Datasets/TestEventExtractionDataWithSentiments.csv\", encoding=\"utf-8\", lineterminator='\\n')\n",
        "for column in merged.columns:\n",
        "  if \"Unnamed\" in column:\n",
        "    del merged[column]\n",
        "  elif \"index\" in column:\n",
        "    del merged[column]\n",
        "# merged['DateTime'] = pd.to_datetime(merged['DateTime'])\n",
        "# merged = merged.sort_values('DateTime')\n",
        "# merged.reset_index(drop=True, inplace=True)\n",
        "print(merged.columns)\n",
        "print(merged.shape)\n",
        "merged.head(2)"
      ]
    },
    {
      "cell_type": "markdown",
      "metadata": {
        "id": "Mui-d2eraPr-"
      },
      "source": [
        "# Load RoBERTa"
      ]
    },
    {
      "cell_type": "code",
      "execution_count": null,
      "metadata": {
        "colab": {
          "base_uri": "https://localhost:8080/"
        },
        "id": "t8z1I0jCAQeh",
        "outputId": "80df19ba-f1bd-4834-fe2d-b78129147295"
      },
      "outputs": [
        {
          "name": "stdout",
          "output_type": "stream",
          "text": [
            "Collecting transformers\n",
            "  Downloading transformers-4.33.2-py3-none-any.whl (7.6 MB)\n",
            "\u001b[2K     \u001b[90m━━━━━━━━━━━━━━━━━━━━━━━━━━━━━━━━━━━━━━━━\u001b[0m \u001b[32m7.6/7.6 MB\u001b[0m \u001b[31m11.6 MB/s\u001b[0m eta \u001b[36m0:00:00\u001b[0m\n",
            "\u001b[?25hRequirement already satisfied: filelock in /usr/local/lib/python3.10/dist-packages (from transformers) (3.12.2)\n",
            "Collecting huggingface-hub<1.0,>=0.15.1 (from transformers)\n",
            "  Downloading huggingface_hub-0.17.2-py3-none-any.whl (294 kB)\n",
            "\u001b[2K     \u001b[90m━━━━━━━━━━━━━━━━━━━━━━━━━━━━━━━━━━━━━━━\u001b[0m \u001b[32m294.9/294.9 kB\u001b[0m \u001b[31m8.4 MB/s\u001b[0m eta \u001b[36m0:00:00\u001b[0m\n",
            "\u001b[?25hRequirement already satisfied: numpy>=1.17 in /usr/local/lib/python3.10/dist-packages (from transformers) (1.23.5)\n",
            "Requirement already satisfied: packaging>=20.0 in /usr/local/lib/python3.10/dist-packages (from transformers) (23.1)\n",
            "Requirement already satisfied: pyyaml>=5.1 in /usr/local/lib/python3.10/dist-packages (from transformers) (6.0.1)\n",
            "Requirement already satisfied: regex!=2019.12.17 in /usr/local/lib/python3.10/dist-packages (from transformers) (2023.6.3)\n",
            "Requirement already satisfied: requests in /usr/local/lib/python3.10/dist-packages (from transformers) (2.31.0)\n",
            "Collecting tokenizers!=0.11.3,<0.14,>=0.11.1 (from transformers)\n",
            "  Downloading tokenizers-0.13.3-cp310-cp310-manylinux_2_17_x86_64.manylinux2014_x86_64.whl (7.8 MB)\n",
            "\u001b[2K     \u001b[90m━━━━━━━━━━━━━━━━━━━━━━━━━━━━━━━━━━━━━━━━\u001b[0m \u001b[32m7.8/7.8 MB\u001b[0m \u001b[31m16.3 MB/s\u001b[0m eta \u001b[36m0:00:00\u001b[0m\n",
            "\u001b[?25hCollecting safetensors>=0.3.1 (from transformers)\n",
            "  Downloading safetensors-0.3.3-cp310-cp310-manylinux_2_17_x86_64.manylinux2014_x86_64.whl (1.3 MB)\n",
            "\u001b[2K     \u001b[90m━━━━━━━━━━━━━━━━━━━━━━━━━━━━━━━━━━━━━━━━\u001b[0m \u001b[32m1.3/1.3 MB\u001b[0m \u001b[31m19.6 MB/s\u001b[0m eta \u001b[36m0:00:00\u001b[0m\n",
            "\u001b[?25hRequirement already satisfied: tqdm>=4.27 in /usr/local/lib/python3.10/dist-packages (from transformers) (4.66.1)\n",
            "Requirement already satisfied: fsspec in /usr/local/lib/python3.10/dist-packages (from huggingface-hub<1.0,>=0.15.1->transformers) (2023.6.0)\n",
            "Requirement already satisfied: typing-extensions>=3.7.4.3 in /usr/local/lib/python3.10/dist-packages (from huggingface-hub<1.0,>=0.15.1->transformers) (4.5.0)\n",
            "Requirement already satisfied: charset-normalizer<4,>=2 in /usr/local/lib/python3.10/dist-packages (from requests->transformers) (3.2.0)\n",
            "Requirement already satisfied: idna<4,>=2.5 in /usr/local/lib/python3.10/dist-packages (from requests->transformers) (3.4)\n",
            "Requirement already satisfied: urllib3<3,>=1.21.1 in /usr/local/lib/python3.10/dist-packages (from requests->transformers) (2.0.4)\n",
            "Requirement already satisfied: certifi>=2017.4.17 in /usr/local/lib/python3.10/dist-packages (from requests->transformers) (2023.7.22)\n",
            "Installing collected packages: tokenizers, safetensors, huggingface-hub, transformers\n",
            "Successfully installed huggingface-hub-0.17.2 safetensors-0.3.3 tokenizers-0.13.3 transformers-4.33.2\n",
            "Requirement already satisfied: torch in /usr/local/lib/python3.10/dist-packages (2.0.1+cu118)\n",
            "Requirement already satisfied: filelock in /usr/local/lib/python3.10/dist-packages (from torch) (3.12.2)\n",
            "Requirement already satisfied: typing-extensions in /usr/local/lib/python3.10/dist-packages (from torch) (4.5.0)\n",
            "Requirement already satisfied: sympy in /usr/local/lib/python3.10/dist-packages (from torch) (1.12)\n",
            "Requirement already satisfied: networkx in /usr/local/lib/python3.10/dist-packages (from torch) (3.1)\n",
            "Requirement already satisfied: jinja2 in /usr/local/lib/python3.10/dist-packages (from torch) (3.1.2)\n",
            "Requirement already satisfied: triton==2.0.0 in /usr/local/lib/python3.10/dist-packages (from torch) (2.0.0)\n",
            "Requirement already satisfied: cmake in /usr/local/lib/python3.10/dist-packages (from triton==2.0.0->torch) (3.27.4.1)\n",
            "Requirement already satisfied: lit in /usr/local/lib/python3.10/dist-packages (from triton==2.0.0->torch) (16.0.6)\n",
            "Requirement already satisfied: MarkupSafe>=2.0 in /usr/local/lib/python3.10/dist-packages (from jinja2->torch) (2.1.3)\n",
            "Requirement already satisfied: mpmath>=0.19 in /usr/local/lib/python3.10/dist-packages (from sympy->torch) (1.3.0)\n"
          ]
        }
      ],
      "source": [
        "! pip install transformers\n",
        "! pip install torch"
      ]
    },
    {
      "cell_type": "code",
      "execution_count": null,
      "metadata": {
        "colab": {
          "base_uri": "https://localhost:8080/"
        },
        "id": "6t0aXSzHaTc_",
        "outputId": "75e02d12-4078-4c6a-e862-4a6425b2f06e"
      },
      "outputs": [
        {
          "data": {
            "application/vnd.jupyter.widget-view+json": {
              "model_id": "763a52feb9bb4783b7a5a598ffe8ffd8",
              "version_major": 2,
              "version_minor": 0
            },
            "text/plain": [
              "Downloading (…)okenizer_config.json:   0%|          | 0.00/62.0 [00:00<?, ?B/s]"
            ]
          },
          "metadata": {},
          "output_type": "display_data"
        },
        {
          "data": {
            "application/vnd.jupyter.widget-view+json": {
              "model_id": "a986f4ae22304547969eca7f6f8a91c1",
              "version_major": 2,
              "version_minor": 0
            },
            "text/plain": [
              "Downloading (…)lve/main/config.json:   0%|          | 0.00/516 [00:00<?, ?B/s]"
            ]
          },
          "metadata": {},
          "output_type": "display_data"
        },
        {
          "data": {
            "application/vnd.jupyter.widget-view+json": {
              "model_id": "2c862c7873a144a6b7191c1671cdf5d1",
              "version_major": 2,
              "version_minor": 0
            },
            "text/plain": [
              "Downloading (…)olve/main/vocab.json:   0%|          | 0.00/1.61M [00:00<?, ?B/s]"
            ]
          },
          "metadata": {},
          "output_type": "display_data"
        },
        {
          "data": {
            "application/vnd.jupyter.widget-view+json": {
              "model_id": "88db31deef564c6c825a2f070222bd0c",
              "version_major": 2,
              "version_minor": 0
            },
            "text/plain": [
              "Downloading (…)olve/main/merges.txt:   0%|          | 0.00/1.15M [00:00<?, ?B/s]"
            ]
          },
          "metadata": {},
          "output_type": "display_data"
        },
        {
          "data": {
            "application/vnd.jupyter.widget-view+json": {
              "model_id": "33bd815009544638a447a5e711190de7",
              "version_major": 2,
              "version_minor": 0
            },
            "text/plain": [
              "Downloading (…)cial_tokens_map.json:   0%|          | 0.00/772 [00:00<?, ?B/s]"
            ]
          },
          "metadata": {},
          "output_type": "display_data"
        },
        {
          "data": {
            "application/vnd.jupyter.widget-view+json": {
              "model_id": "dadd865bf9e541819e32839b647fc98d",
              "version_major": 2,
              "version_minor": 0
            },
            "text/plain": [
              "Downloading pytorch_model.bin:   0%|          | 0.00/507M [00:00<?, ?B/s]"
            ]
          },
          "metadata": {},
          "output_type": "display_data"
        }
      ],
      "source": [
        "from transformers import AutoTokenizer, AutoModel\n",
        "# Load Urduhack/roberta tokenizer and model\n",
        "tokenizer = AutoTokenizer.from_pretrained(\"urduhack/roberta-urdu-small\")\n",
        "model = AutoModel.from_pretrained(\"urduhack/roberta-urdu-small\")\n",
        "\n",
        "# Example usage: tokenize and encode a sentence\n",
        "# sentence = \"آپ کیسے ہیں؟\"\n",
        "# tokens1 = tokenizer2.tokenize(sentence, padding=True, truncation=True, return_tensors='tf')\n",
        "# input_ids1 = tokenizer2.encode(sentence, add_special_tokens=True)"
      ]
    },
    {
      "cell_type": "code",
      "execution_count": null,
      "metadata": {
        "id": "Qp2dMuvsa9QA"
      },
      "outputs": [],
      "source": [
        "import torch\n",
        "def get_roberta_embeddings(text):\n",
        "    encoded_input = tokenizer(text, padding=True, truncation=True, max_length=512, return_tensors='pt')\n",
        "    with torch.no_grad():\n",
        "        model_output = model(**encoded_input)\n",
        "    embeddings = model_output.last_hidden_state.mean(dim=1).squeeze().numpy()\n",
        "    return embeddings"
      ]
    },
    {
      "cell_type": "markdown",
      "metadata": {
        "id": "Xob2Am3D2FOb"
      },
      "source": [
        "# Creating Subsets for Large Datasets"
      ]
    },
    {
      "cell_type": "code",
      "execution_count": null,
      "metadata": {
        "colab": {
          "base_uri": "https://localhost:8080/"
        },
        "id": "pijo6V312SD0",
        "outputId": "42ab58fe-68ef-4c41-8a96-c6978e6e1ee1"
      },
      "outputs": [
        {
          "name": "stdout",
          "output_type": "stream",
          "text": [
            "Subset for month 1 shape: (7324, 20)\n",
            "Subset for month 2 shape: (8633, 20)\n",
            "Subset for month 3 shape: (9651, 20)\n",
            "Subset for month 4 shape: (9545, 20)\n",
            "Subset for month 5 shape: (12475, 20)\n",
            "Subset for month 6 shape: (11427, 20)\n",
            "Subset for month 7 shape: (9882, 20)\n",
            "Subset for month 8 shape: (8273, 20)\n",
            "Subset for month 9 shape: (6457, 20)\n",
            "Subset for month 10 shape: (6272, 20)\n",
            "Subset for month 11 shape: (6515, 20)\n",
            "Subset for month 12 shape: (6715, 20)\n"
          ]
        }
      ],
      "source": [
        "# Convert the 'DateTime' column to a datetime object if it's not already\n",
        "merged['DateTime'] = pd.to_datetime(merged['DateTime'])\n",
        "\n",
        "# Group the data by month\n",
        "grouped = merged.groupby(merged['DateTime'].dt.month)\n",
        "\n",
        "# Create a dictionary to store the subsets\n",
        "subsets = {}\n",
        "\n",
        "# Iterate over the groups and store each subset\n",
        "for month, group in grouped:\n",
        "    subsets[month] = group\n",
        "\n",
        "# Print the shape of each subset\n",
        "for month, subset in subsets.items():\n",
        "    print(f\"Subset for month {month} shape:\", subset.shape)\n"
      ]
    },
    {
      "cell_type": "code",
      "execution_count": null,
      "metadata": {
        "colab": {
          "base_uri": "https://localhost:8080/"
        },
        "id": "PosT8vL3WBfL",
        "outputId": "089ccafd-3260-41c1-d251-15d703c7840a"
      },
      "outputs": [
        {
          "data": {
            "text/plain": [
              "(6715, 20)"
            ]
          },
          "execution_count": 18,
          "metadata": {},
          "output_type": "execute_result"
        }
      ],
      "source": [
        "# month = subsets[4]\n",
        "m = 12\n",
        "month = subsets[m]\n",
        "month.shape"
      ]
    },
    {
      "cell_type": "markdown",
      "metadata": {
        "id": "twM_FF9YLpUp"
      },
      "source": [
        "# Get News Embeddings"
      ]
    },
    {
      "cell_type": "markdown",
      "metadata": {
        "id": "XFUP4TezUJn0"
      },
      "source": [
        "## Without Dividing into Subsets"
      ]
    },
    {
      "cell_type": "code",
      "execution_count": null,
      "metadata": {
        "colab": {
          "base_uri": "https://localhost:8080/"
        },
        "id": "Kvw13WyfKhtt",
        "outputId": "a23be8b2-c9a9-4bcd-839b-0b8cd9e36cd3"
      },
      "outputs": [
        {
          "name": "stderr",
          "output_type": "stream",
          "text": [
            "<ipython-input-6-e53e80cc8b7d>:11: SettingWithCopyWarning: \n",
            "A value is trying to be set on a copy of a slice from a DataFrame\n",
            "\n",
            "See the caveats in the documentation: https://pandas.pydata.org/pandas-docs/stable/user_guide/indexing.html#returning-a-view-versus-a-copy\n",
            "  merged['Embedding_Vector'][index] = vectors\n"
          ]
        }
      ],
      "source": [
        "import numpy as np\n",
        "merged['Embedding'] = ''\n",
        "merged['Embedding_Vector'] = ''\n",
        "for index, row in merged.iterrows():\n",
        "  article = row['CC_wo_Stopwords_punc']\n",
        "  vectors = get_roberta_embeddings(article)\n",
        "  query_embedding = np.mean(vectors, axis=0)\n",
        "  # print(vectors)\n",
        "  # print(query_embedding)\n",
        "  # print(type(query_embedding))\n",
        "  merged['Embedding_Vector'][index] = vectors\n",
        "  merged.loc[index, 'Embedding'] = query_embedding"
      ]
    },
    {
      "cell_type": "code",
      "execution_count": null,
      "metadata": {
        "id": "ZSuL8TPhVMTX"
      },
      "outputs": [],
      "source": [
        "print(f\"Vector Shape: {vectors.shape}\")\n",
        "print(f\"Vector Type: {type(vectors)}\")\n",
        "print(f\"Dataset Columns: {merged.columns}\")"
      ]
    },
    {
      "cell_type": "code",
      "execution_count": null,
      "metadata": {
        "id": "xtV0eQ1cVMTX"
      },
      "outputs": [],
      "source": [
        "merged.head(2)"
      ]
    },
    {
      "cell_type": "code",
      "execution_count": null,
      "metadata": {
        "id": "oeUk7uEKVMTY"
      },
      "outputs": [],
      "source": [
        "merged.to_csv(data_path, index=False)"
      ]
    },
    {
      "cell_type": "markdown",
      "metadata": {
        "id": "g7wZFnnrUOxA"
      },
      "source": [
        "## With Subsets"
      ]
    },
    {
      "cell_type": "code",
      "execution_count": null,
      "metadata": {
        "colab": {
          "background_save": true,
          "base_uri": "https://localhost:8080/"
        },
        "id": "Jt9opXswOAeV",
        "outputId": "3a6c0919-3efe-4cf8-ea5a-d22891e87c89"
      },
      "outputs": [
        {
          "name": "stderr",
          "output_type": "stream",
          "text": [
            "<timed exec>:11: SettingWithCopyWarning: \n",
            "A value is trying to be set on a copy of a slice from a DataFrame\n",
            "\n",
            "See the caveats in the documentation: https://pandas.pydata.org/pandas-docs/stable/user_guide/indexing.html#returning-a-view-versus-a-copy\n"
          ]
        },
        {
          "name": "stdout",
          "output_type": "stream",
          "text": [
            "CPU times: user 1h 1min 4s, sys: 2.22 s, total: 1h 1min 6s\n",
            "Wall time: 1h 1min 27s\n"
          ]
        }
      ],
      "source": [
        "%%time\n",
        "import numpy as np\n",
        "month['Embedding'] = ''\n",
        "month['Embedding_Vector'] = ''\n",
        "for index, row in month.iterrows():\n",
        "  article = row['CC_wo_Stopwords_punc']\n",
        "  vectors = get_roberta_embeddings(article)\n",
        "  query_embedding = np.mean(vectors, axis=0)\n",
        "  # print(vectors)\n",
        "  # print(query_embedding)\n",
        "  # print(type(query_embedding))\n",
        "  month['Embedding_Vector'][index] = vectors\n",
        "  month.loc[index, 'Embedding'] = query_embedding"
      ]
    },
    {
      "cell_type": "code",
      "execution_count": null,
      "metadata": {
        "colab": {
          "base_uri": "https://localhost:8080/"
        },
        "id": "lrGvg6CCkD7e",
        "outputId": "7229954a-ac2d-4e42-c702-02a671aaa035"
      },
      "outputs": [
        {
          "name": "stdout",
          "output_type": "stream",
          "text": [
            "Vector Shape: (768,)\n",
            "Vector Type: <class 'numpy.ndarray'>\n",
            "Dataset Columns: Index(['Headline', 'DateTime', 'Url', 'News', 'Source', 'Category', 'Combined',\n",
            "       'Combined_Cleaned', 'CC_wo_Stopwords', 'Combined_wo_Stopwords',\n",
            "       'CC_wo_Stopwords_punc', 'main_cat', 'Sub_Category', 'Keywords_CC', 'id',\n",
            "       'sentiment', 'CC_tokenized', 'NER_Persons', 'NER_Orgs', 'NER_Loc'],\n",
            "      dtype='object')\n",
            "Dataset Columns: Index(['Headline', 'DateTime', 'Url', 'News', 'Source', 'Category', 'Combined',\n",
            "       'Combined_Cleaned', 'CC_wo_Stopwords', 'Combined_wo_Stopwords',\n",
            "       'CC_wo_Stopwords_punc', 'main_cat', 'Sub_Category', 'Keywords_CC', 'id',\n",
            "       'sentiment', 'CC_tokenized', 'NER_Persons', 'NER_Orgs', 'NER_Loc',\n",
            "       'Embedding', 'Embedding_Vector'],\n",
            "      dtype='object')\n"
          ]
        }
      ],
      "source": [
        "print(f\"Vector Shape: {vectors.shape}\")\n",
        "print(f\"Vector Type: {type(vectors)}\")\n",
        "print(f\"Dataset Columns: {merged.columns}\")\n",
        "print(f\"Dataset Columns: {month.columns}\")"
      ]
    },
    {
      "cell_type": "code",
      "execution_count": null,
      "metadata": {
        "id": "wtR5NaHgnfzX"
      },
      "outputs": [],
      "source": []
    },
    {
      "cell_type": "code",
      "execution_count": null,
      "metadata": {
        "colab": {
          "base_uri": "https://localhost:8080/",
          "height": 439
        },
        "id": "QiKJbQ4EMrCK",
        "outputId": "f609ae18-d3a7-48f6-e4f1-4242d1b24d7c"
      },
      "outputs": [
        {
          "data": {
            "text/html": [
              "\n",
              "  <div id=\"df-d1a20546-5fd0-447e-a5f5-496bd1c89ff0\" class=\"colab-df-container\">\n",
              "    <div>\n",
              "<style scoped>\n",
              "    .dataframe tbody tr th:only-of-type {\n",
              "        vertical-align: middle;\n",
              "    }\n",
              "\n",
              "    .dataframe tbody tr th {\n",
              "        vertical-align: top;\n",
              "    }\n",
              "\n",
              "    .dataframe thead th {\n",
              "        text-align: right;\n",
              "    }\n",
              "</style>\n",
              "<table border=\"1\" class=\"dataframe\">\n",
              "  <thead>\n",
              "    <tr style=\"text-align: right;\">\n",
              "      <th></th>\n",
              "      <th>Headline</th>\n",
              "      <th>DateTime</th>\n",
              "      <th>Url</th>\n",
              "      <th>News</th>\n",
              "      <th>Source</th>\n",
              "      <th>Category</th>\n",
              "      <th>Combined</th>\n",
              "      <th>Combined_Cleaned</th>\n",
              "      <th>CC_wo_Stopwords</th>\n",
              "      <th>Combined_wo_Stopwords</th>\n",
              "      <th>...</th>\n",
              "      <th>Sub_Category</th>\n",
              "      <th>Keywords_CC</th>\n",
              "      <th>id</th>\n",
              "      <th>sentiment</th>\n",
              "      <th>CC_tokenized</th>\n",
              "      <th>NER_Persons</th>\n",
              "      <th>NER_Orgs</th>\n",
              "      <th>NER_Loc</th>\n",
              "      <th>Embedding</th>\n",
              "      <th>Embedding_Vector</th>\n",
              "    </tr>\n",
              "  </thead>\n",
              "  <tbody>\n",
              "    <tr>\n",
              "      <th>2</th>\n",
              "      <td>پاکستانی تاریخ کی ’تاریک ترین‘ رات جب ’ملک بچا...</td>\n",
              "      <td>2018-10-10</td>\n",
              "      <td>https://www.bbc.com/urdu/pakistan-45805505</td>\n",
              "      <td>سات اکتوبر 1958 کو لگائے جانے والے پاکستان کے ...</td>\n",
              "      <td>BBC</td>\n",
              "      <td>پاکستان</td>\n",
              "      <td>پاکستانی تاریخ کی ’تاریک ترین‘ رات جب ’ملک بچا...</td>\n",
              "      <td>پاکستانی تاریخ کی تاریک ترین رات جب ملک بچانے ...</td>\n",
              "      <td>پاکستانی تاریخ تاریک ترین رات ملک بچانے مارشل ...</td>\n",
              "      <td>پاکستانی تاریخ ’تاریک ترین‘ رات ’ملک بچانے‘ ما...</td>\n",
              "      <td>...</td>\n",
              "      <td>NotAssigned</td>\n",
              "      <td>['اسکندر', 'مرزا', 'مارشل', 'ایوب', 'لا', 'سہر...</td>\n",
              "      <td>2054</td>\n",
              "      <td>1.0</td>\n",
              "      <td>['پاکستانی', 'تاریخ', 'کی', '’تاریک', 'ترین', ...</td>\n",
              "      <td>['سکندر', 'اعظم', 'تاش', 'ہمایوں', 'ناہید', 'خ...</td>\n",
              "      <td>['کالعدم', 'اقبال']</td>\n",
              "      <td>['ہندوستان', 'کوڑا', 'کراچی', 'کوئٹہ', 'برطانی...</td>\n",
              "      <td>0.000289</td>\n",
              "      <td>[0.8170644, 0.011714853, -0.33213586, -0.93070...</td>\n",
              "    </tr>\n",
              "    <tr>\n",
              "      <th>12219</th>\n",
              "      <td>عوام کیلئے بری خبر، حکومت نے پیٹرول 4 روپے ليٹ...</td>\n",
              "      <td>2021-10-01</td>\n",
              "      <td>https://www.nawaiwaqt.com.pk/01-Oct-2021/1425418</td>\n",
              "      <td>کراچی: حکومت کی جانب سے رواں ماہ میں پیٹرولیم ...</td>\n",
              "      <td>Nawaiwaqt</td>\n",
              "      <td>قومی</td>\n",
              "      <td>عوام کیلئے بری خبر، حکومت نے پیٹرول 4 روپے ليٹ...</td>\n",
              "      <td>عوام کیلئے بری خبر حکومت نے پیٹرول 4 روپے لیٹر...</td>\n",
              "      <td>عوام کیلئے بری خبر حکومت پیٹرول 4 روپے لیٹر مہ...</td>\n",
              "      <td>عوام کیلئے بری خبر، حکومت پیٹرول 4 روپے ليٹر م...</td>\n",
              "      <td>...</td>\n",
              "      <td>NotAssigned</td>\n",
              "      <td>['لیٹر', 'ڈیزل', 'پیٹرولیم', 'روپے', 'قیمت', '...</td>\n",
              "      <td>88909</td>\n",
              "      <td>1.0</td>\n",
              "      <td>['عوام', 'کیلئے', 'بری', 'خبر', '،', 'حکومت', ...</td>\n",
              "      <td>[]</td>\n",
              "      <td>[]</td>\n",
              "      <td>['کراچی']</td>\n",
              "      <td>0.000305</td>\n",
              "      <td>[0.20231852, -0.07226098, -0.43643257, -0.8594...</td>\n",
              "    </tr>\n",
              "  </tbody>\n",
              "</table>\n",
              "<p>2 rows × 22 columns</p>\n",
              "</div>\n",
              "    <div class=\"colab-df-buttons\">\n",
              "\n",
              "  <div class=\"colab-df-container\">\n",
              "    <button class=\"colab-df-convert\" onclick=\"convertToInteractive('df-d1a20546-5fd0-447e-a5f5-496bd1c89ff0')\"\n",
              "            title=\"Convert this dataframe to an interactive table.\"\n",
              "            style=\"display:none;\">\n",
              "\n",
              "  <svg xmlns=\"http://www.w3.org/2000/svg\" height=\"24px\" viewBox=\"0 -960 960 960\">\n",
              "    <path d=\"M120-120v-720h720v720H120Zm60-500h600v-160H180v160Zm220 220h160v-160H400v160Zm0 220h160v-160H400v160ZM180-400h160v-160H180v160Zm440 0h160v-160H620v160ZM180-180h160v-160H180v160Zm440 0h160v-160H620v160Z\"/>\n",
              "  </svg>\n",
              "    </button>\n",
              "\n",
              "  <style>\n",
              "    .colab-df-container {\n",
              "      display:flex;\n",
              "      gap: 12px;\n",
              "    }\n",
              "\n",
              "    .colab-df-convert {\n",
              "      background-color: #E8F0FE;\n",
              "      border: none;\n",
              "      border-radius: 50%;\n",
              "      cursor: pointer;\n",
              "      display: none;\n",
              "      fill: #1967D2;\n",
              "      height: 32px;\n",
              "      padding: 0 0 0 0;\n",
              "      width: 32px;\n",
              "    }\n",
              "\n",
              "    .colab-df-convert:hover {\n",
              "      background-color: #E2EBFA;\n",
              "      box-shadow: 0px 1px 2px rgba(60, 64, 67, 0.3), 0px 1px 3px 1px rgba(60, 64, 67, 0.15);\n",
              "      fill: #174EA6;\n",
              "    }\n",
              "\n",
              "    .colab-df-buttons div {\n",
              "      margin-bottom: 4px;\n",
              "    }\n",
              "\n",
              "    [theme=dark] .colab-df-convert {\n",
              "      background-color: #3B4455;\n",
              "      fill: #D2E3FC;\n",
              "    }\n",
              "\n",
              "    [theme=dark] .colab-df-convert:hover {\n",
              "      background-color: #434B5C;\n",
              "      box-shadow: 0px 1px 3px 1px rgba(0, 0, 0, 0.15);\n",
              "      filter: drop-shadow(0px 1px 2px rgba(0, 0, 0, 0.3));\n",
              "      fill: #FFFFFF;\n",
              "    }\n",
              "  </style>\n",
              "\n",
              "    <script>\n",
              "      const buttonEl =\n",
              "        document.querySelector('#df-d1a20546-5fd0-447e-a5f5-496bd1c89ff0 button.colab-df-convert');\n",
              "      buttonEl.style.display =\n",
              "        google.colab.kernel.accessAllowed ? 'block' : 'none';\n",
              "\n",
              "      async function convertToInteractive(key) {\n",
              "        const element = document.querySelector('#df-d1a20546-5fd0-447e-a5f5-496bd1c89ff0');\n",
              "        const dataTable =\n",
              "          await google.colab.kernel.invokeFunction('convertToInteractive',\n",
              "                                                    [key], {});\n",
              "        if (!dataTable) return;\n",
              "\n",
              "        const docLinkHtml = 'Like what you see? Visit the ' +\n",
              "          '<a target=\"_blank\" href=https://colab.research.google.com/notebooks/data_table.ipynb>data table notebook</a>'\n",
              "          + ' to learn more about interactive tables.';\n",
              "        element.innerHTML = '';\n",
              "        dataTable['output_type'] = 'display_data';\n",
              "        await google.colab.output.renderOutput(dataTable, element);\n",
              "        const docLink = document.createElement('div');\n",
              "        docLink.innerHTML = docLinkHtml;\n",
              "        element.appendChild(docLink);\n",
              "      }\n",
              "    </script>\n",
              "  </div>\n",
              "\n",
              "\n",
              "<div id=\"df-c9683b45-5b87-4440-8b4d-9cf418fe4b25\">\n",
              "  <button class=\"colab-df-quickchart\" onclick=\"quickchart('df-c9683b45-5b87-4440-8b4d-9cf418fe4b25')\"\n",
              "            title=\"Suggest charts.\"\n",
              "            style=\"display:none;\">\n",
              "\n",
              "<svg xmlns=\"http://www.w3.org/2000/svg\" height=\"24px\"viewBox=\"0 0 24 24\"\n",
              "     width=\"24px\">\n",
              "    <g>\n",
              "        <path d=\"M19 3H5c-1.1 0-2 .9-2 2v14c0 1.1.9 2 2 2h14c1.1 0 2-.9 2-2V5c0-1.1-.9-2-2-2zM9 17H7v-7h2v7zm4 0h-2V7h2v10zm4 0h-2v-4h2v4z\"/>\n",
              "    </g>\n",
              "</svg>\n",
              "  </button>\n",
              "\n",
              "<style>\n",
              "  .colab-df-quickchart {\n",
              "      --bg-color: #E8F0FE;\n",
              "      --fill-color: #1967D2;\n",
              "      --hover-bg-color: #E2EBFA;\n",
              "      --hover-fill-color: #174EA6;\n",
              "      --disabled-fill-color: #AAA;\n",
              "      --disabled-bg-color: #DDD;\n",
              "  }\n",
              "\n",
              "  [theme=dark] .colab-df-quickchart {\n",
              "      --bg-color: #3B4455;\n",
              "      --fill-color: #D2E3FC;\n",
              "      --hover-bg-color: #434B5C;\n",
              "      --hover-fill-color: #FFFFFF;\n",
              "      --disabled-bg-color: #3B4455;\n",
              "      --disabled-fill-color: #666;\n",
              "  }\n",
              "\n",
              "  .colab-df-quickchart {\n",
              "    background-color: var(--bg-color);\n",
              "    border: none;\n",
              "    border-radius: 50%;\n",
              "    cursor: pointer;\n",
              "    display: none;\n",
              "    fill: var(--fill-color);\n",
              "    height: 32px;\n",
              "    padding: 0;\n",
              "    width: 32px;\n",
              "  }\n",
              "\n",
              "  .colab-df-quickchart:hover {\n",
              "    background-color: var(--hover-bg-color);\n",
              "    box-shadow: 0 1px 2px rgba(60, 64, 67, 0.3), 0 1px 3px 1px rgba(60, 64, 67, 0.15);\n",
              "    fill: var(--button-hover-fill-color);\n",
              "  }\n",
              "\n",
              "  .colab-df-quickchart-complete:disabled,\n",
              "  .colab-df-quickchart-complete:disabled:hover {\n",
              "    background-color: var(--disabled-bg-color);\n",
              "    fill: var(--disabled-fill-color);\n",
              "    box-shadow: none;\n",
              "  }\n",
              "\n",
              "  .colab-df-spinner {\n",
              "    border: 2px solid var(--fill-color);\n",
              "    border-color: transparent;\n",
              "    border-bottom-color: var(--fill-color);\n",
              "    animation:\n",
              "      spin 1s steps(1) infinite;\n",
              "  }\n",
              "\n",
              "  @keyframes spin {\n",
              "    0% {\n",
              "      border-color: transparent;\n",
              "      border-bottom-color: var(--fill-color);\n",
              "      border-left-color: var(--fill-color);\n",
              "    }\n",
              "    20% {\n",
              "      border-color: transparent;\n",
              "      border-left-color: var(--fill-color);\n",
              "      border-top-color: var(--fill-color);\n",
              "    }\n",
              "    30% {\n",
              "      border-color: transparent;\n",
              "      border-left-color: var(--fill-color);\n",
              "      border-top-color: var(--fill-color);\n",
              "      border-right-color: var(--fill-color);\n",
              "    }\n",
              "    40% {\n",
              "      border-color: transparent;\n",
              "      border-right-color: var(--fill-color);\n",
              "      border-top-color: var(--fill-color);\n",
              "    }\n",
              "    60% {\n",
              "      border-color: transparent;\n",
              "      border-right-color: var(--fill-color);\n",
              "    }\n",
              "    80% {\n",
              "      border-color: transparent;\n",
              "      border-right-color: var(--fill-color);\n",
              "      border-bottom-color: var(--fill-color);\n",
              "    }\n",
              "    90% {\n",
              "      border-color: transparent;\n",
              "      border-bottom-color: var(--fill-color);\n",
              "    }\n",
              "  }\n",
              "</style>\n",
              "\n",
              "  <script>\n",
              "    async function quickchart(key) {\n",
              "      const quickchartButtonEl =\n",
              "        document.querySelector('#' + key + ' button');\n",
              "      quickchartButtonEl.disabled = true;  // To prevent multiple clicks.\n",
              "      quickchartButtonEl.classList.add('colab-df-spinner');\n",
              "      try {\n",
              "        const charts = await google.colab.kernel.invokeFunction(\n",
              "            'suggestCharts', [key], {});\n",
              "      } catch (error) {\n",
              "        console.error('Error during call to suggestCharts:', error);\n",
              "      }\n",
              "      quickchartButtonEl.classList.remove('colab-df-spinner');\n",
              "      quickchartButtonEl.classList.add('colab-df-quickchart-complete');\n",
              "    }\n",
              "    (() => {\n",
              "      let quickchartButtonEl =\n",
              "        document.querySelector('#df-c9683b45-5b87-4440-8b4d-9cf418fe4b25 button');\n",
              "      quickchartButtonEl.style.display =\n",
              "        google.colab.kernel.accessAllowed ? 'block' : 'none';\n",
              "    })();\n",
              "  </script>\n",
              "</div>\n",
              "    </div>\n",
              "  </div>\n"
            ],
            "text/plain": [
              "                                                Headline   DateTime  \\\n",
              "2      پاکستانی تاریخ کی ’تاریک ترین‘ رات جب ’ملک بچا... 2018-10-10   \n",
              "12219  عوام کیلئے بری خبر، حکومت نے پیٹرول 4 روپے ليٹ... 2021-10-01   \n",
              "\n",
              "                                                    Url  \\\n",
              "2            https://www.bbc.com/urdu/pakistan-45805505   \n",
              "12219  https://www.nawaiwaqt.com.pk/01-Oct-2021/1425418   \n",
              "\n",
              "                                                    News     Source Category  \\\n",
              "2      سات اکتوبر 1958 کو لگائے جانے والے پاکستان کے ...        BBC  پاکستان   \n",
              "12219  کراچی: حکومت کی جانب سے رواں ماہ میں پیٹرولیم ...  Nawaiwaqt     قومی   \n",
              "\n",
              "                                                Combined  \\\n",
              "2      پاکستانی تاریخ کی ’تاریک ترین‘ رات جب ’ملک بچا...   \n",
              "12219  عوام کیلئے بری خبر، حکومت نے پیٹرول 4 روپے ليٹ...   \n",
              "\n",
              "                                        Combined_Cleaned  \\\n",
              "2      پاکستانی تاریخ کی تاریک ترین رات جب ملک بچانے ...   \n",
              "12219  عوام کیلئے بری خبر حکومت نے پیٹرول 4 روپے لیٹر...   \n",
              "\n",
              "                                         CC_wo_Stopwords  \\\n",
              "2      پاکستانی تاریخ تاریک ترین رات ملک بچانے مارشل ...   \n",
              "12219  عوام کیلئے بری خبر حکومت پیٹرول 4 روپے لیٹر مہ...   \n",
              "\n",
              "                                   Combined_wo_Stopwords  ... Sub_Category  \\\n",
              "2      پاکستانی تاریخ ’تاریک ترین‘ رات ’ملک بچانے‘ ما...  ...  NotAssigned   \n",
              "12219  عوام کیلئے بری خبر، حکومت پیٹرول 4 روپے ليٹر م...  ...  NotAssigned   \n",
              "\n",
              "                                             Keywords_CC     id sentiment  \\\n",
              "2      ['اسکندر', 'مرزا', 'مارشل', 'ایوب', 'لا', 'سہر...   2054       1.0   \n",
              "12219  ['لیٹر', 'ڈیزل', 'پیٹرولیم', 'روپے', 'قیمت', '...  88909       1.0   \n",
              "\n",
              "                                            CC_tokenized  \\\n",
              "2      ['پاکستانی', 'تاریخ', 'کی', '’تاریک', 'ترین', ...   \n",
              "12219  ['عوام', 'کیلئے', 'بری', 'خبر', '،', 'حکومت', ...   \n",
              "\n",
              "                                             NER_Persons             NER_Orgs  \\\n",
              "2      ['سکندر', 'اعظم', 'تاش', 'ہمایوں', 'ناہید', 'خ...  ['کالعدم', 'اقبال']   \n",
              "12219                                                 []                   []   \n",
              "\n",
              "                                                 NER_Loc Embedding  \\\n",
              "2      ['ہندوستان', 'کوڑا', 'کراچی', 'کوئٹہ', 'برطانی...  0.000289   \n",
              "12219                                          ['کراچی']  0.000305   \n",
              "\n",
              "                                        Embedding_Vector  \n",
              "2      [0.8170644, 0.011714853, -0.33213586, -0.93070...  \n",
              "12219  [0.20231852, -0.07226098, -0.43643257, -0.8594...  \n",
              "\n",
              "[2 rows x 22 columns]"
            ]
          },
          "execution_count": 14,
          "metadata": {},
          "output_type": "execute_result"
        }
      ],
      "source": [
        "month.head(2)"
      ]
    },
    {
      "cell_type": "code",
      "execution_count": null,
      "metadata": {
        "id": "PihmThxpWFR4"
      },
      "outputs": [],
      "source": [
        "path = f\"/content/drive/MyDrive/Datasets/SubsetsToDeleteLater/embedding_sub{m}.csv\"\n",
        "month.to_csv(path, index=False)"
      ]
    },
    {
      "cell_type": "markdown",
      "metadata": {
        "id": "PvuaAECLRBdG"
      },
      "source": [
        "# Merge All Subsets"
      ]
    },
    {
      "cell_type": "code",
      "execution_count": null,
      "metadata": {
        "id": "E7QI_k22O19g"
      },
      "outputs": [],
      "source": [
        "d1 = pd.read_csv(\"/content/drive/MyDrive/Datasets/SubsetsToDeleteLater/embedding_sub1.csv\", encoding=\"utf-8\", lineterminator='\\n')\n",
        "d2 = pd.read_csv(\"/content/drive/MyDrive/Datasets/SubsetsToDeleteLater/embedding_sub2.csv\", encoding=\"utf-8\", lineterminator='\\n')\n",
        "d3 = pd.read_csv(\"/content/drive/MyDrive/Datasets/SubsetsToDeleteLater/embedding_sub3.csv\", encoding=\"utf-8\", lineterminator='\\n')\n",
        "d4 = pd.read_csv(\"/content/drive/MyDrive/Datasets/SubsetsToDeleteLater/embedding_sub4.csv\", encoding=\"utf-8\", lineterminator='\\n')\n",
        "d5 = pd.read_csv(\"/content/drive/MyDrive/Datasets/SubsetsToDeleteLater/embedding_sub5.csv\", encoding=\"utf-8\", lineterminator='\\n')\n",
        "d6 = pd.read_csv(\"/content/drive/MyDrive/Datasets/SubsetsToDeleteLater/embedding_sub6.csv\", encoding=\"utf-8\", lineterminator='\\n')\n",
        "d7 = pd.read_csv(\"/content/drive/MyDrive/Datasets/SubsetsToDeleteLater/embedding_sub7.csv\", encoding=\"utf-8\", lineterminator='\\n')\n",
        "d8 = pd.read_csv(\"/content/drive/MyDrive/Datasets/SubsetsToDeleteLater/embedding_sub8.csv\", encoding=\"utf-8\", lineterminator='\\n')\n",
        "d9 = pd.read_csv(\"/content/drive/MyDrive/Datasets/SubsetsToDeleteLater/embedding_sub9.csv\", encoding=\"utf-8\", lineterminator='\\n')\n",
        "d10 = pd.read_csv(\"/content/drive/MyDrive/Datasets/SubsetsToDeleteLater/embedding_sub10.csv\", encoding=\"utf-8\", lineterminator='\\n')\n",
        "d11 = pd.read_csv(\"/content/drive/MyDrive/Datasets/SubsetsToDeleteLater/embedding_sub11.csv\", encoding=\"utf-8\", lineterminator='\\n')\n",
        "d12 = pd.read_csv(\"/content/drive/MyDrive/Datasets/SubsetsToDeleteLater/embedding_sub12.csv\", encoding=\"utf-8\", lineterminator='\\n')"
      ]
    },
    {
      "cell_type": "code",
      "execution_count": null,
      "metadata": {
        "id": "uxgBhaiRTc8c"
      },
      "outputs": [],
      "source": [
        "merged = pd.concat([d1,d2,d3,d4,d5,d6,d7,d8,d9,d10,d11,d12,d13])\n",
        "if \"Unnamed: 0\" in merged.columns:\n",
        "  del merged['Unnamed: 0']\n",
        "elif \"index\" in merged.columns:\n",
        "  del merged['index']\n",
        "\n",
        "merged['DateTime'] = pd.to_datetime(merged['DateTime'])\n",
        "merged = merged.sort_values('DateTime')\n",
        "merged.reset_index(drop=True, inplace=True)\n",
        "print(merged.shape)\n",
        "merged.to_csv(\"/content/drive/MyDrive/Datasets/Processed_News/NewsData2022_2023-06-15.csv\", index=False)\n",
        "merged.head(2)"
      ]
    }
  ],
  "metadata": {
    "colab": {
      "collapsed_sections": [
        "gG39OWyFLiMf",
        "Mui-d2eraPr-",
        "XFUP4TezUJn0"
      ],
      "provenance": []
    },
    "kernelspec": {
      "display_name": "Python 3",
      "name": "python3"
    },
    "language_info": {
      "name": "python"
    }
  },
  "nbformat": 4,
  "nbformat_minor": 0
}