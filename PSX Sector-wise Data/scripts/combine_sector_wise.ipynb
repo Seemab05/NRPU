{
  "nbformat": 4,
  "nbformat_minor": 0,
  "metadata": {
    "colab": {
      "provenance": []
    },
    "kernelspec": {
      "name": "python3",
      "display_name": "Python 3"
    },
    "language_info": {
      "name": "python"
    }
  },
  "cells": [
    {
      "cell_type": "code",
      "source": [
        "import pandas as pd\n",
        "\n",
        "# Load the CSV files into pandas DataFrames, parsing 'Date' as datetime\n",
        "kse_df = pd.read_csv('test_yield.csv', parse_dates=['Date'])\n",
        "chemical_df = pd.read_csv('combined_Sector_chemical.csv', parse_dates=['Date'])\n",
        "petroleum_df = pd.read_csv('combined_Sector_petroleum.csv', parse_dates=['Date'])\n",
        "construction_df = pd.read_csv('combined_all_construction.csv', parse_dates=['Date'])\n",
        "\n",
        "# Merge DataFrames on the 'Date' column using left join\n",
        "merged_df = kse_df.merge(chemical_df, on='Date', how='left')\n",
        "merged_df = merged_df.merge(petroleum_df, on='Date', how='left')\n",
        "merged_df = merged_df.merge(construction_df, on='Date', how='left')\n",
        "\n",
        "# Interpolate missing values in the merged DataFrame\n",
        "merged_df.interpolate(method='ffill', inplace=True)\n",
        "\n",
        "# Save the final DataFrame to a new CSV file\n",
        "merged_df.to_csv('merged_data.csv', index=False)\n"
      ],
      "metadata": {
        "id": "v8nZ5q_9yDR_"
      },
      "execution_count": 3,
      "outputs": []
    }
  ]
}